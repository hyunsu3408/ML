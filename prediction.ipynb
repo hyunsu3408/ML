{
 "cells": [
  {
   "cell_type": "markdown",
   "id": "22b0069c",
   "metadata": {},
   "source": [
    "# 농어 무게 예측해보기"
   ]
  },
  {
   "cell_type": "code",
   "execution_count": 31,
   "id": "595d8cb2",
   "metadata": {},
   "outputs": [],
   "source": [
    "# 회귀(regression)"
   ]
  },
  {
   "cell_type": "code",
   "execution_count": 32,
   "id": "9819b07b",
   "metadata": {},
   "outputs": [],
   "source": [
    "# K-최근접 이웃 분류: 가까운 타깃 값중 수가 많은쪽을 나타냄\n",
    "# K-최근접 이웃 회귀: 가까운 타깃 값을 평균냄"
   ]
  },
  {
   "cell_type": "code",
   "execution_count": 33,
   "id": "ec7be17b",
   "metadata": {},
   "outputs": [],
   "source": [
    "# 도미의 길이, 도미의 특성성\n",
    "\n",
    "bream_length= [25.4,26.3,26.5,29.0,29.0,29.7,29,7,30.0,30.0,30.7,\n",
    "            31.0,31.0,31.5,32.0,32.0,33.0,33.0,33.5,33.5,34.0,34.0,34.5,\n",
    "            35.0,35.0,35.0,35.0,36.0,36.0,36.0,37.0,38.5,39.0,41.0,41.0]\n",
    "bream_weight = [242.0,290.0,340.0,363.0,430.0,450.0,500.0,390.0,\n",
    "                450.0,500.0,475.0,500.0,500.0,340.0,600.0,600.0,\n",
    "                700.0,700.0,610.0,650.0,575.0,685.0,620.0,680.0,\n",
    "                700.0,725.0,720.0,714.0,850.0,1000.0,920.0,955.0,\n",
    "                925.0,975.0,950.0]\n",
    "\n",
    "# 빙어 데이터\n",
    "\n",
    "smelt_length = [9.8,10.5,10.6,11.0,11.2,11.3,11.8,11.8,12.0,12.2,\n",
    "                12.4,13.0,14.3,15.0]\n",
    "smelt_weight = [6.7, 7.5, 7.0, 9.7, 9.8, 8.7, 10.0, 9.9, 9.8, 12.2,13.4,\n",
    "                12.2,19.7,19.9]"
   ]
  },
  {
   "cell_type": "code",
   "execution_count": 34,
   "id": "d09db655",
   "metadata": {},
   "outputs": [],
   "source": [
    "fish_length = bream_length + smelt_length\n",
    "fish_weight = bream_weight + smelt_weight"
   ]
  },
  {
   "cell_type": "markdown",
   "id": "ce735218",
   "metadata": {},
   "source": [
    "# 회귀 모델 훈련"
   ]
  },
  {
   "cell_type": "code",
   "execution_count": 35,
   "id": "7c404fc7",
   "metadata": {},
   "outputs": [],
   "source": [
    "from sklearn.model_selection import train_test_split\n",
    "import numpy as np\n",
    "\n",
    "fish_length = np.array(fish_length)\n",
    "fish_weight = np.array(fish_weight)\n",
    "\n",
    "# test_size를 정하지 않을때 기본 분할 비율 75:25\n",
    "train_input, test_input, train_target, test_target = train_test_split(fish_length,fish_weight,random_state=42)\n",
    "\n",
    "# reshape(-1,1): 행의 수는 자동으로 계산, 열은 1개로 고정해서 열벡터로 변환\n",
    "train_input = train_input.reshape(-1,1)\n",
    "test_input = test_input.reshape(-1,1)"
   ]
  },
  {
   "cell_type": "code",
   "execution_count": 47,
   "id": "f6ccb76b",
   "metadata": {},
   "outputs": [
    {
     "name": "stdout",
     "output_type": "stream",
     "text": [
      "0.9538724563190637\n",
      "0.9572069767030524\n",
      "38.1\n"
     ]
    }
   ],
   "source": [
    "from sklearn.neighbors import KNeighborsRegressor\n",
    "from sklearn.metrics import mean_absolute_error\n",
    "\n",
    "knr = KNeighborsRegressor()\n",
    "knr.fit(train_input,train_target)\n",
    "\n",
    "# 정확도\n",
    "print(knr.score(train_input,train_target))\n",
    "print(knr.score(test_input,test_target))\n",
    "\n",
    "\n",
    "# 절대 오차 평균\n",
    "test_prediction = knr.predict(test_input)\n",
    "mae = mean_absolute_error(test_target,test_prediction)\n",
    "print(mae)\n"
   ]
  },
  {
   "cell_type": "markdown",
   "id": "9e159e0d",
   "metadata": {},
   "source": [
    "# 과대 적합과 과소 적합"
   ]
  },
  {
   "cell_type": "code",
   "execution_count": null,
   "id": "d3a4207b",
   "metadata": {},
   "outputs": [],
   "source": [
    "# 과소 적합 : 모델이 너무 단순해서 패턴을 못 배움 \n",
    "# 훈련 데이터도 잘 예측하지 못함\n",
    "\n",
    "# 예)\n",
    "# knr.score( train_input, train_target )\n",
    "# 값 0.653\n",
    "\n",
    "# knr.score( test_input, test_target )\n",
    "# 값 0.676"
   ]
  },
  {
   "cell_type": "code",
   "execution_count": null,
   "id": "e62f9518",
   "metadata": {},
   "outputs": [],
   "source": [
    "# 과대 적합 : 모델이 너무 복잡해서 패턴 + 노이즈까지 외움\n",
    "# 훈련 데이터에 너무 맞춰져 테스트 데이터에는 일반화 되지 못함 \n",
    "\n",
    "# 예)\n",
    "# knr.score( train_input, train_target )\n",
    "# 값 0.967\n",
    "\n",
    "# knr.score( test_input, test_target )\n",
    "# 값 0.665"
   ]
  },
  {
   "cell_type": "markdown",
   "id": "c9af6e3f",
   "metadata": {},
   "source": [
    "이웃 갯수 조정하기"
   ]
  },
  {
   "cell_type": "code",
   "execution_count": null,
   "id": "e464eadd",
   "metadata": {},
   "outputs": [
    {
     "name": "stdout",
     "output_type": "stream",
     "text": [
      "0.9538724563190637\n",
      "0.9572069767030524\n"
     ]
    }
   ],
   "source": [
    "# 과소 적합이면 k(이웃)의 갯수를 줄여서 모델이 더 민감하게 예측하게 함\n",
    "# 과대 적합이면 k(이웃)의 갯수를 늘려서 예측을 평균화하게 시켜야 함\n",
    "# k는 몇개의 샘플을 참고할 것인가이다.\n",
    "\n",
    "# 최적의 k\n",
    "knr.n_neighbors = 5 # .neighbors 로 k(이웃) 갯수 조절\n",
    "knr.fit(train_input,train_target)\n",
    "\n",
    "# 정확도\n",
    "print(knr.score(train_input,train_target))\n",
    "\n",
    "print(knr.score(test_input,test_target))"
   ]
  },
  {
   "cell_type": "code",
   "execution_count": null,
   "id": "861bc78d",
   "metadata": {},
   "outputs": [
    {
     "name": "stdout",
     "output_type": "stream",
     "text": [
      "0.3429272219544043\n",
      "0.27675802072085265\n"
     ]
    }
   ],
   "source": [
    "# k갯수가 많을 때 -> 과소 적합 따라서 줄여야함\n",
    "knr.n_neighbors = 30\n",
    "knr.fit(train_input,train_target)\n",
    "\n",
    "# 정확도\n",
    "print(knr.score(train_input,train_target))\n",
    "\n",
    "print(knr.score(test_input,test_target))"
   ]
  },
  {
   "cell_type": "code",
   "execution_count": 73,
   "id": "8afde113",
   "metadata": {},
   "outputs": [
    {
     "name": "stdout",
     "output_type": "stream",
     "text": [
      "0.984894928550377\n",
      "0.8828118546043452\n"
     ]
    }
   ],
   "source": [
    "# k의 갯수가 적을 때 -> 과대적합 따라서 k(이웃)을 늘려야함\n",
    "knr.n_neighbors = 1\n",
    "knr.fit(train_input,train_target)\n",
    "\n",
    "# 정확도\n",
    "print(knr.score(train_input,train_target))\n",
    "\n",
    "print(knr.score(test_input,test_target))"
   ]
  },
  {
   "cell_type": "code",
   "execution_count": null,
   "id": "7c329cd5",
   "metadata": {},
   "outputs": [],
   "source": []
  }
 ],
 "metadata": {
  "kernelspec": {
   "display_name": "base",
   "language": "python",
   "name": "python3"
  },
  "language_info": {
   "codemirror_mode": {
    "name": "ipython",
    "version": 3
   },
   "file_extension": ".py",
   "mimetype": "text/x-python",
   "name": "python",
   "nbconvert_exporter": "python",
   "pygments_lexer": "ipython3",
   "version": "3.11.7"
  }
 },
 "nbformat": 4,
 "nbformat_minor": 5
}
