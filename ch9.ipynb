{
 "cells": [
  {
   "cell_type": "markdown",
   "id": "3920cd02",
   "metadata": {},
   "source": [
    "k-최근접 이웃의 다중 분류"
   ]
  },
  {
   "cell_type": "code",
   "execution_count": 6,
   "id": "1b5141f6",
   "metadata": {},
   "outputs": [
    {
     "name": "stdout",
     "output_type": "stream",
     "text": [
      "  Species  Weight  Length  Diagonal   Height   Width\n",
      "0   Bream   242.0    25.4      30.0  11.5200  4.0200\n",
      "1   Bream   290.0    26.3      31.2  12.4800  4.3056\n",
      "2   Bream   340.0    26.5      31.1  12.3778  4.6961\n",
      "3   Bream   363.0    29.0      33.5  12.7300  4.4555\n",
      "4   Bream   430.0    29.0      34.0  12.4440  5.1340\n"
     ]
    }
   ],
   "source": [
    "import pandas as pd\n",
    "import numpy as np\n",
    "\n",
    "fish = pd.read_csv(\"https://bit.ly/fish_csv_data\")\n",
    "print(fish.head())\n",
    "\n",
    "fish_input = fish[['Weight','Length','Diagonal','Height','Width']].to_numpy()\n",
    "fish_target = fish[['Species']].to_numpy()\n"
   ]
  },
  {
   "cell_type": "code",
   "execution_count": 7,
   "id": "6aa44d18",
   "metadata": {},
   "outputs": [
    {
     "name": "stdout",
     "output_type": "stream",
     "text": [
      "['Bream' 'Parkki' 'Perch' 'Pike' 'Roach' 'Smelt' 'Whitefish']\n"
     ]
    }
   ],
   "source": [
    "# target의 고유값들 확인\n",
    "print(np.unique(fish_target))"
   ]
  },
  {
   "cell_type": "code",
   "execution_count": 8,
   "id": "bc850a68",
   "metadata": {},
   "outputs": [],
   "source": [
    "from sklearn.preprocessing import StandardScaler\n",
    "from sklearn.preprocessing import PolynomialFeatures\n",
    "from sklearn.model_selection import train_test_split\n",
    "\n",
    "train_input, test_input, train_target, test_target = \\\n",
    "    train_test_split(fish_input,fish_target,\\\n",
    "        stratify=fish_target,random_state=42)\n",
    "    \n",
    "# train_input = train_input.reshape(-1,1)\n",
    "# test_input = test_input.reshape(-1,1)\n",
    "\n",
    "# 다항 특성 만들기\n",
    "# poly = PolynomialFeatures(degree=5,include_bias=False)\n",
    "# poly.fit(train_input)\n",
    "\n",
    "# train_poly = poly.transform(train_input)\n",
    "# test_poly = poly.transform(test_input)\n",
    "\n",
    "# 스케일링\n",
    "std = StandardScaler()\n",
    "std.fit(train_input)\n",
    "\n",
    "train_scaled = std.transform(train_input)\n",
    "test_scaled = std.transform(test_input)\n",
    "\n"
   ]
  },
  {
   "cell_type": "code",
   "execution_count": 12,
   "id": "a8f250ff",
   "metadata": {},
   "outputs": [
    {
     "name": "stdout",
     "output_type": "stream",
     "text": [
      "['Bream' 'Parkki' 'Perch' 'Pike' 'Roach' 'Smelt' 'Whitefish']\n",
      "['Smelt' 'Smelt' 'Smelt' 'Smelt' 'Smelt']\n",
      "[[0.     0.     0.3333 0.     0.     0.6667 0.    ]\n",
      " [0.     0.     0.3333 0.     0.     0.6667 0.    ]\n",
      " [0.     0.     0.3333 0.     0.     0.6667 0.    ]\n",
      " [0.     0.     0.3333 0.     0.     0.6667 0.    ]\n",
      " [0.     0.     0.3333 0.     0.     0.6667 0.    ]]\n"
     ]
    }
   ],
   "source": [
    "from sklearn.neighbors import KNeighborsClassifier\n",
    "from numpy import ravel\n",
    "\n",
    "kn = KNeighborsClassifier(n_neighbors=3)\n",
    "kn.fit(fish_input,ravel(fish_target))\n",
    "\n",
    "print(kn.classes_)\n",
    "\n",
    "print(kn.predict(test_scaled[:5]))\n",
    "\n",
    "proba = kn.predict_proba(test_scaled[:5])\n",
    "print(np.round(proba, decimals=4))\n"
   ]
  },
  {
   "cell_type": "markdown",
   "id": "9f22378a",
   "metadata": {},
   "source": [
    "# 로지스틱 회귀(이진 분류)"
   ]
  },
  {
   "cell_type": "code",
   "execution_count": 10,
   "id": "ab3fa85d",
   "metadata": {},
   "outputs": [],
   "source": [
    "# -> 시그모이드 함수(tanh) \n",
    "# 0.5보다 크면 양성 클래스\n",
    "# 0.5보다 작으면 음성 클래스"
   ]
  },
  {
   "cell_type": "code",
   "execution_count": 11,
   "id": "7f7f590d",
   "metadata": {},
   "outputs": [
    {
     "ename": "IndexError",
     "evalue": "boolean index did not match indexed array along dimension 1; dimension is 5 but corresponding boolean dimension is 1",
     "output_type": "error",
     "traceback": [
      "\u001b[1;31m---------------------------------------------------------------------------\u001b[0m",
      "\u001b[1;31mIndexError\u001b[0m                                Traceback (most recent call last)",
      "Cell \u001b[1;32mIn[11], line 2\u001b[0m\n\u001b[0;32m      1\u001b[0m bream_smelt_indexes \u001b[38;5;241m=\u001b[39m (train_target \u001b[38;5;241m==\u001b[39m \u001b[38;5;124m'\u001b[39m\u001b[38;5;124mBream\u001b[39m\u001b[38;5;124m'\u001b[39m) \u001b[38;5;241m|\u001b[39m (train_target \u001b[38;5;241m==\u001b[39m \u001b[38;5;124m'\u001b[39m\u001b[38;5;124mSmelt\u001b[39m\u001b[38;5;124m'\u001b[39m)\n\u001b[1;32m----> 2\u001b[0m train_bream_smelt \u001b[38;5;241m=\u001b[39m train_scaled[bream_smelt_indexes]\n\u001b[0;32m      3\u001b[0m target_bream_smelt \u001b[38;5;241m=\u001b[39m train_target[bream_smelt_indexes]\n\u001b[0;32m      5\u001b[0m \u001b[38;5;28;01mfrom\u001b[39;00m \u001b[38;5;21;01msklearn\u001b[39;00m\u001b[38;5;21;01m.\u001b[39;00m\u001b[38;5;21;01mlinear_model\u001b[39;00m \u001b[38;5;28;01mimport\u001b[39;00m LogisticRegression\n",
      "\u001b[1;31mIndexError\u001b[0m: boolean index did not match indexed array along dimension 1; dimension is 5 but corresponding boolean dimension is 1"
     ]
    }
   ],
   "source": [
    "bream_smelt_indexes = (train_target == 'Bream') | (train_target == 'Smelt')\n",
    "train_bream_smelt = train_scaled[bream_smelt_indexes]\n",
    "target_bream_smelt = train_target[bream_smelt_indexes]\n",
    "\n",
    "from sklearn.linear_model import LogisticRegression\n",
    "\n",
    "lr = LogisticRegression()\n",
    "lr.fit(train_bream_smelt, target_bream_smelt)\n",
    "\n",
    "print(lr.predict(train_bream_smelt[:5]))\n",
    "\n",
    "print(lr.predict_proba(train_bream_smelt[:5]))\n"
   ]
  },
  {
   "cell_type": "code",
   "execution_count": null,
   "id": "0816c5d2",
   "metadata": {},
   "outputs": [
    {
     "name": "stdout",
     "output_type": "stream",
     "text": [
      "(595, 1)\n",
      "(119, 1)\n"
     ]
    }
   ],
   "source": [
    "print(train_scaled.shape)     # (595, ?) 혹은 (119, ?)\n",
    "print(train_target.shape)     # (119,)\n"
   ]
  },
  {
   "cell_type": "code",
   "execution_count": null,
   "id": "ee1198d3",
   "metadata": {},
   "outputs": [],
   "source": []
  }
 ],
 "metadata": {
  "kernelspec": {
   "display_name": "base",
   "language": "python",
   "name": "python3"
  },
  "language_info": {
   "codemirror_mode": {
    "name": "ipython",
    "version": 3
   },
   "file_extension": ".py",
   "mimetype": "text/x-python",
   "name": "python",
   "nbconvert_exporter": "python",
   "pygments_lexer": "ipython3",
   "version": "3.11.7"
  }
 },
 "nbformat": 4,
 "nbformat_minor": 5
}
