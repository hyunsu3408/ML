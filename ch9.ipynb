{
 "cells": [
  {
   "cell_type": "code",
   "execution_count": 1,
   "id": "e035c9e9",
   "metadata": {},
   "outputs": [],
   "source": [
    "# 로지스틱 회귀 알아보기"
   ]
  },
  {
   "cell_type": "code",
   "execution_count": 2,
   "id": "1b5141f6",
   "metadata": {},
   "outputs": [
    {
     "name": "stdout",
     "output_type": "stream",
     "text": [
      "  Species  Weight  Length  Diagonal   Height   Width\n",
      "0   Bream   242.0    25.4      30.0  11.5200  4.0200\n",
      "1   Bream   290.0    26.3      31.2  12.4800  4.3056\n",
      "2   Bream   340.0    26.5      31.1  12.3778  4.6961\n",
      "3   Bream   363.0    29.0      33.5  12.7300  4.4555\n",
      "4   Bream   430.0    29.0      34.0  12.4440  5.1340\n"
     ]
    }
   ],
   "source": [
    "import pandas as pd\n",
    "\n",
    "\n",
    "fish = pd.read_csv(\"https://bit.ly/fish_csv_data\")\n",
    "print(fish.head())\n",
    "\n",
    "fish_input = fish[['Weight','Length','Diagonal','Height','Width']].to_numpy()\n",
    "fish_target = fish[['Species']].to_numpy()\n"
   ]
  },
  {
   "cell_type": "code",
   "execution_count": 3,
   "id": "bc850a68",
   "metadata": {},
   "outputs": [],
   "source": [
    "from sklearn.model_selection import train_test_split\n",
    "\n",
    "train_input, test_input, train_target, test_target = \\\n",
    "    train_test_split(fish_input,fish_target,\\\n",
    "        stratify=fish_target,random_state=42)\n",
    "\n"
   ]
  },
  {
   "cell_type": "code",
   "execution_count": 4,
   "id": "c64d38cd",
   "metadata": {},
   "outputs": [],
   "source": [
    "train_input = train_input.reshape(-1,1)\n",
    "test_input = test_input.reshape(-1,1)"
   ]
  },
  {
   "cell_type": "code",
   "execution_count": 7,
   "id": "aef18313",
   "metadata": {},
   "outputs": [],
   "source": [
    "from sklearn.preprocessing import StandardScaler\n",
    "from sklearn.preprocessing import PolynomialFeatures\n",
    "\n",
    "poly = PolynomialFeatures()\n",
    "poly.fit(train_input)\n",
    "\n",
    "train_poly = poly.transform(train_input)\n",
    "\n",
    "test_poly = poly.transform(test_input)\n",
    "\n",
    "std = StandardScaler()\n",
    "std.fit(train_poly)\n",
    "\n",
    "train_scaled = std.transform(train_poly)\n",
    "test_scaled = std.transform(test_poly)\n",
    "\n"
   ]
  },
  {
   "cell_type": "markdown",
   "id": "3920cd02",
   "metadata": {},
   "source": [
    "k-최근접 이웃의 다중 분류"
   ]
  },
  {
   "cell_type": "code",
   "execution_count": 9,
   "id": "a8f250ff",
   "metadata": {},
   "outputs": [
    {
     "name": "stdout",
     "output_type": "stream",
     "text": [
      "['Bream' 'Parkki' 'Perch' 'Pike' 'Roach' 'Smelt' 'Whitefish']\n"
     ]
    },
    {
     "name": "stderr",
     "output_type": "stream",
     "text": [
      "c:\\Users\\hyunsu\\anaconda3\\Lib\\site-packages\\sklearn\\neighbors\\_classification.py:215: DataConversionWarning: A column-vector y was passed when a 1d array was expected. Please change the shape of y to (n_samples,), for example using ravel().\n",
      "  return self._fit(X, y)\n"
     ]
    },
    {
     "ename": "TypeError",
     "evalue": "KNeighborsClassifier.predict() takes 2 positional arguments but 3 were given",
     "output_type": "error",
     "traceback": [
      "\u001b[1;31m---------------------------------------------------------------------------\u001b[0m",
      "\u001b[1;31mTypeError\u001b[0m                                 Traceback (most recent call last)",
      "Cell \u001b[1;32mIn[9], line 8\u001b[0m\n\u001b[0;32m      4\u001b[0m kn\u001b[38;5;241m.\u001b[39mfit(fish_input,fish_target)\n\u001b[0;32m      6\u001b[0m \u001b[38;5;28mprint\u001b[39m(kn\u001b[38;5;241m.\u001b[39mclasses_)\n\u001b[1;32m----> 8\u001b[0m \u001b[38;5;28mprint\u001b[39m(kn\u001b[38;5;241m.\u001b[39mpredict(train_scaled,train_target))\n",
      "\u001b[1;31mTypeError\u001b[0m: KNeighborsClassifier.predict() takes 2 positional arguments but 3 were given"
     ]
    }
   ],
   "source": [
    "from sklearn.neighbors import KNeighborsClassifier\n",
    "\n",
    "kn = KNeighborsClassifier(n_neighbors=3)\n",
    "kn.fit(fish_input,fish_target)\n",
    "\n",
    "print(kn.classes_)\n",
    "\n",
    "print(kn.predict(train_scaled,train_target))\n",
    "\n"
   ]
  },
  {
   "cell_type": "code",
   "execution_count": null,
   "id": "ab3fa85d",
   "metadata": {},
   "outputs": [],
   "source": []
  }
 ],
 "metadata": {
  "kernelspec": {
   "display_name": "base",
   "language": "python",
   "name": "python3"
  },
  "language_info": {
   "codemirror_mode": {
    "name": "ipython",
    "version": 3
   },
   "file_extension": ".py",
   "mimetype": "text/x-python",
   "name": "python",
   "nbconvert_exporter": "python",
   "pygments_lexer": "ipython3",
   "version": "3.11.7"
  }
 },
 "nbformat": 4,
 "nbformat_minor": 5
}
