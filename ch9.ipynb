{
 "cells": [
  {
   "cell_type": "markdown",
   "id": "3920cd02",
   "metadata": {},
   "source": [
    "k-최근접 이웃의 다중 분류"
   ]
  },
  {
   "cell_type": "code",
   "execution_count": 57,
   "id": "1b5141f6",
   "metadata": {},
   "outputs": [
    {
     "name": "stdout",
     "output_type": "stream",
     "text": [
      "  Species  Weight  Length  Diagonal   Height   Width\n",
      "0   Bream   242.0    25.4      30.0  11.5200  4.0200\n",
      "1   Bream   290.0    26.3      31.2  12.4800  4.3056\n",
      "2   Bream   340.0    26.5      31.1  12.3778  4.6961\n",
      "3   Bream   363.0    29.0      33.5  12.7300  4.4555\n",
      "4   Bream   430.0    29.0      34.0  12.4440  5.1340\n"
     ]
    }
   ],
   "source": [
    "import pandas as pd\n",
    "import numpy as np\n",
    "\n",
    "fish = pd.read_csv(\"https://bit.ly/fish_csv_data\")\n",
    "print(fish.head())\n",
    "\n",
    "fish_input = fish[['Weight','Length','Diagonal','Height','Width']].to_numpy()\n",
    "fish_target = fish[['Species']].to_numpy()\n"
   ]
  },
  {
   "cell_type": "code",
   "execution_count": 58,
   "id": "6aa44d18",
   "metadata": {},
   "outputs": [
    {
     "name": "stdout",
     "output_type": "stream",
     "text": [
      "['Bream' 'Parkki' 'Perch' 'Pike' 'Roach' 'Smelt' 'Whitefish']\n"
     ]
    }
   ],
   "source": [
    "# target의 고유값들 확인\n",
    "print(np.unique(fish_target))"
   ]
  },
  {
   "cell_type": "code",
   "execution_count": 59,
   "id": "c3b801e2",
   "metadata": {},
   "outputs": [],
   "source": [
    "# reshape(-1,1) : x(입력)가 1차원일때 2차원 열벡터로 만들기\n",
    "# -> 이미 2차원일경우 reshape 필요 x, 1차원일 경우만\n",
    "\n",
    "# ravel() : y(타겟/정답)이 2차원일 때 1차원으로 평탄화\n",
    "# ravel()은 y가 (n,1)인 상황에서만 (n,)으로 바꿔주는 것\n"
   ]
  },
  {
   "cell_type": "code",
   "execution_count": 60,
   "id": "bc850a68",
   "metadata": {},
   "outputs": [],
   "source": [
    "from sklearn.preprocessing import StandardScaler\n",
    "from sklearn.model_selection import train_test_split\n",
    "\n",
    "train_input, test_input, train_target, test_target = \\\n",
    "    train_test_split(fish_input,fish_target,\\\n",
    "        stratify=fish_target,random_state=42)\n",
    "    \n",
    "# 다차원 인경우 reshape 필요없음\n",
    "# train_input = train_input.reshape(-1,1)\n",
    "# test_input = test_input.reshape(-1,1)\n",
    "\n",
    "# KNN은 거리 기반이라 차원 많아지면 성능저하\n",
    "# 따라서 poly 사용x\n",
    "# poly = PolynomialFeatures(degree=5,include_bias=False)\n",
    "# poly.fit(train_input)\n",
    "\n",
    "train_poly = poly.transform(train_input)\n",
    "test_poly = poly.transform(test_input)\n",
    "\n",
    "# 스케일링\n",
    "std = StandardScaler()\n",
    "std.fit(train_input)\n",
    "\n",
    "train_scaled = std.transform(train_input)\n",
    "test_scaled = std.transform(test_input)\n",
    "\n"
   ]
  },
  {
   "cell_type": "code",
   "execution_count": 61,
   "id": "a8f250ff",
   "metadata": {},
   "outputs": [
    {
     "name": "stdout",
     "output_type": "stream",
     "text": [
      "['Bream' 'Parkki' 'Perch' 'Pike' 'Roach' 'Smelt' 'Whitefish']\n",
      "['Perch' 'Perch' 'Roach' 'Parkki' 'Parkki']\n",
      "[[0.     0.     0.6667 0.     0.3333 0.     0.    ]\n",
      " [0.     0.     0.6667 0.     0.3333 0.     0.    ]\n",
      " [0.     0.     0.3333 0.     0.6667 0.     0.    ]\n",
      " [0.     1.     0.     0.     0.     0.     0.    ]\n",
      " [0.     0.6667 0.     0.     0.3333 0.     0.    ]]\n"
     ]
    },
    {
     "name": "stderr",
     "output_type": "stream",
     "text": [
      "c:\\Users\\hyunsu\\anaconda3\\Lib\\site-packages\\sklearn\\neighbors\\_classification.py:215: DataConversionWarning: A column-vector y was passed when a 1d array was expected. Please change the shape of y to (n_samples,), for example using ravel().\n",
      "  return self._fit(X, y)\n"
     ]
    }
   ],
   "source": [
    "# x는 항상 2차원 y는 1차원이여야한다.\n",
    "\n",
    "# KNN 모델 학습\n",
    "from sklearn.neighbors import KNeighborsClassifier\n",
    "from numpy import ravel\n",
    "\n",
    "kn = KNeighborsClassifier(n_neighbors=3)\n",
    "# ravel() 로 y값 1차원으로 변경\n",
    "kn.fit(train_scaled,train_target)\n",
    "\n",
    "print(kn.classes_)\n",
    "\n",
    "print(kn.predict(test_scaled[:5]))\n",
    "proba = kn.predict_proba(test_scaled[:5])\n",
    "print(np.round(proba, decimals=4))\n"
   ]
  },
  {
   "cell_type": "markdown",
   "id": "9f22378a",
   "metadata": {},
   "source": [
    "# 로지스틱 회귀(이진 분류)"
   ]
  },
  {
   "cell_type": "code",
   "execution_count": 62,
   "id": "ab3fa85d",
   "metadata": {},
   "outputs": [],
   "source": [
    "# -> 시그모이드 함수(tanh) \n",
    "# 0.5보다 크면 양성 클래스\n",
    "# 0.5보다 작으면 음성 클래스"
   ]
  },
  {
   "cell_type": "code",
   "execution_count": 63,
   "id": "7f7f590d",
   "metadata": {},
   "outputs": [
    {
     "name": "stdout",
     "output_type": "stream",
     "text": [
      "['Bream' 'Bream' 'Bream' 'Bream' 'Bream']\n",
      "[[9.76263188e-01 2.37368125e-02]\n",
      " [9.99614480e-01 3.85519926e-04]\n",
      " [9.94438266e-01 5.56173414e-03]\n",
      " [9.09188993e-01 9.08110069e-02]\n",
      " [9.99361521e-01 6.38479331e-04]]\n"
     ]
    }
   ],
   "source": [
    "from sklearn.linear_model import LogisticRegression\n",
    "from sklearn.preprocessing import PolynomialFeatures\n",
    "\n",
    "poly = PolynomialFeatures(degree=1, include_bias=False)\n",
    "poly.fit(train_input)\n",
    "\n",
    "train_poly = poly.transform(train_input)\n",
    "test_poly = poly.transform(test_input)\n",
    "\n",
    "# 스케일링\n",
    "std = StandardScaler()\n",
    "std.fit(train_poly)\n",
    "\n",
    "train_scaled = std.transform(train_poly)\n",
    "test_scaled = std.transform(test_poly)\n",
    "\n",
    "train_target = train_target.ravel()\n",
    "\n",
    "bream_smelt_indexes = (train_target == 'Bream') | (train_target == 'Smelt')\n",
    "train_bream_smelt = train_scaled[bream_smelt_indexes]\n",
    "target_bream_smelt = train_target[bream_smelt_indexes]\n",
    "\n",
    "\n",
    "lr = LogisticRegression()\n",
    "lr.fit(train_bream_smelt, target_bream_smelt)\n",
    "\n",
    "print(lr.predict(train_bream_smelt[:5]))\n",
    "\n",
    "print(lr.predict_proba(train_bream_smelt[:5]))\n"
   ]
  },
  {
   "cell_type": "code",
   "execution_count": null,
   "id": "f0c33f8c",
   "metadata": {},
   "outputs": [
    {
     "name": "stdout",
     "output_type": "stream",
     "text": [
      "[[-0.4235112  -0.61604834 -0.70216369 -0.97498265 -0.7403996 ]] [-2.46732659]\n",
      "[-3.7167051  -7.86053208 -5.18626807 -2.30377249 -7.35578257]\n",
      "[0.02373681 0.00038552 0.00556173 0.09081101 0.00063848]\n"
     ]
    }
   ],
   "source": [
    "from scipy.special import expit\n",
    "# 기울기와 절편\n",
    "print(lr.coef_,lr.intercept_)\n",
    "\n",
    "decisions = lr.decision_function(train_bream_smelt[:5])\n",
    "print(decisions)\n",
    "\n",
    "print(expit(decisions))"
   ]
  },
  {
   "cell_type": "markdown",
   "id": "449ab713",
   "metadata": {},
   "source": [
    "# 로지스틱 회귀(다중 분류)"
   ]
  },
  {
   "cell_type": "code",
   "execution_count": null,
   "id": "6ecb7840",
   "metadata": {},
   "outputs": [
    {
     "name": "stdout",
     "output_type": "stream",
     "text": [
      "0.9243697478991597\n",
      "0.975\n",
      "[[0.    0.029 0.237 0.003 0.685 0.01  0.035]\n",
      " [0.    0.032 0.576 0.001 0.35  0.003 0.039]\n",
      " [0.    0.062 0.558 0.001 0.336 0.017 0.026]\n",
      " [0.003 0.93  0.001 0.    0.051 0.    0.015]\n",
      " [0.001 0.882 0.004 0.    0.094 0.002 0.017]]\n",
      "(7, 5) (7,)\n"
     ]
    }
   ],
   "source": [
    "# max_iter 기본값 100\n",
    "# C 기본값 1 ,C는 규제 강도, 높을수록 규제 약해짐\n",
    "lr = LogisticRegression(C=20, max_iter=1000)\n",
    "lr.fit(train_scaled,train_target)\n",
    "\n",
    "print(lr.score(train_scaled,train_target))\n",
    "print(lr.score(test_scaled,test_target))\n",
    "\n",
    "proba = lr.predict_proba(test_scaled[:5])\n",
    "print(np.round(proba,decimals=3))\n",
    "\n",
    "print(lr.coef_.shape,lr.intercept_.shape)"
   ]
  },
  {
   "cell_type": "code",
   "execution_count": null,
   "id": "eeb5f1f5",
   "metadata": {},
   "outputs": [],
   "source": []
  }
 ],
 "metadata": {
  "kernelspec": {
   "display_name": "base",
   "language": "python",
   "name": "python3"
  },
  "language_info": {
   "codemirror_mode": {
    "name": "ipython",
    "version": 3
   },
   "file_extension": ".py",
   "mimetype": "text/x-python",
   "name": "python",
   "nbconvert_exporter": "python",
   "pygments_lexer": "ipython3",
   "version": "3.11.7"
  }
 },
 "nbformat": 4,
 "nbformat_minor": 5
}
