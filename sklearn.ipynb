{
 "cells": [
  {
   "cell_type": "code",
   "execution_count": 2,
   "id": "dfa84784",
   "metadata": {},
   "outputs": [],
   "source": [
    "# 도미의 길이, 도미의 특성성\n",
    "\n",
    "bream_length= [25.4,26.3,26.5,29.0,29.0,29.7,29,7,30.0,30.0,30.7,\n",
    "            31.0,31.0,31.5,32.0,32.0,33.0,33.0,33.5,33.5,34.0,34.0,34.5,\n",
    "            35.0,35.0,35.0,35.0,36.0,36.0,36.0,37.0,38.5,39.0,41.0,41.0]\n",
    "bream_weight = [242.0,290.0,340.0,363.0,430.0,450.0,500.0,390.0,\n",
    "                450.0,500.0,475.0,500.0,500.0,340.0,600.0,600.0,\n",
    "                700.0,700.0,610.0,650.0,575.0,685.0,620.0,680.0,\n",
    "                700.0,725.0,720.0,714.0,850.0,1000.0,920.0,955.0,\n",
    "                925.0,975.0,950.0]\n",
    "\n",
    "# 빙어 데이터\n",
    "\n",
    "smelt_length = [9.8,10.5,10.6,11.0,11.2,11.3,11.8,11.8,12.0,12.2,\n",
    "                12.4,13.0,14.3,15.0]\n",
    "smelt_weight = [6.7, 7.5, 7.0, 9.7, 9.8, 8.7, 10.0, 9.9, 9.8, 12.2,13.4,\n",
    "                12.2,19.7,19.9]"
   ]
  },
  {
   "cell_type": "code",
   "execution_count": 3,
   "id": "d522a585",
   "metadata": {},
   "outputs": [],
   "source": [
    "fish_length = bream_length + smelt_length\n",
    "fish_weight = bream_weight + smelt_weight"
   ]
  },
  {
   "cell_type": "code",
   "execution_count": 4,
   "id": "7d9617f7",
   "metadata": {},
   "outputs": [],
   "source": [
    "from sklearn.model_selection import train_test_split\n",
    "import numpy as np\n",
    "\n",
    "fish_length = np.array(fish_length)\n",
    "fish_weight = np.array(fish_weight)\n",
    "\n",
    "# test_size를 정하지 않을때 기본 분할 비율 75:25\n",
    "train_input, test_input, train_target, test_target = train_test_split(fish_length,fish_weight,random_state=42)\n",
    "\n",
    "# reshape(-1,1): 행의 수는 자동으로 계산, 열은 1개로 고정해서 열벡터로 변환\n",
    "train_input = train_input.reshape(-1,1)\n",
    "test_input = test_input.reshape(-1,1)"
   ]
  },
  {
   "cell_type": "code",
   "execution_count": 5,
   "id": "b81a0f40",
   "metadata": {},
   "outputs": [
    {
     "name": "stdout",
     "output_type": "stream",
     "text": [
      "0.9538724563190637\n",
      "0.9572069767030524\n",
      "38.1\n"
     ]
    }
   ],
   "source": [
    "from sklearn.neighbors import KNeighborsRegressor\n",
    "from sklearn.metrics import mean_absolute_error\n",
    "\n",
    "knr = KNeighborsRegressor()\n",
    "knr.fit(train_input,train_target)\n",
    "\n",
    "# 정확도\n",
    "print(knr.score(train_input,train_target))\n",
    "print(knr.score(test_input,test_target))\n",
    "\n",
    "\n",
    "# 절대 오차 평균\n",
    "test_prediction = knr.predict(test_input)\n",
    "mae = mean_absolute_error(test_target,test_prediction)\n",
    "print(mae)\n"
   ]
  },
  {
   "cell_type": "markdown",
   "id": "f8273256",
   "metadata": {},
   "source": [
    "사이킷런으로 선형회귀 모델 만들기"
   ]
  },
  {
   "cell_type": "code",
   "execution_count": 8,
   "id": "38cfe78a",
   "metadata": {},
   "outputs": [
    {
     "name": "stdout",
     "output_type": "stream",
     "text": [
      "[934.]\n"
     ]
    }
   ],
   "source": [
    "print(knr.predict([[50]]))"
   ]
  },
  {
   "cell_type": "code",
   "execution_count": 11,
   "id": "ed53859f",
   "metadata": {},
   "outputs": [
    {
     "data": {
      "image/png": "[encoded data removed]",
      "text/plain": [
       "<Figure size 640x480 with 1 Axes>"
      ]
     },
     "metadata": {},
     "output_type": "display_data"
    }
   ],
   "source": [
    "import matplotlib.pyplot as plt\n",
    "\n",
    "distances, indexes = knr.kneighbors([[50]])\n",
    "\n",
    "plt.scatter(train_input,train_target)\n",
    "\n",
    "plt.scatter(train_input[indexes],train_target[indexes],marker='D')\n",
    "\n",
    "plt.scatter(50,934,marker='^')\n",
    "plt.show()"
   ]
  },
  {
   "cell_type": "markdown",
   "id": "27225150",
   "metadata": {},
   "source": [
    "# 선형회귀"
   ]
  },
  {
   "cell_type": "code",
   "execution_count": 15,
   "id": "902b6872",
   "metadata": {},
   "outputs": [
    {
     "name": "stdout",
     "output_type": "stream",
     "text": [
      "[1109.82688846]\n",
      "[28.12578268] -296.46224551901133\n"
     ]
    }
   ],
   "source": [
    "from sklearn.linear_model import LinearRegression\n",
    "\n",
    "lr = LinearRegression()\n",
    "lr.fit(train_input,train_target)\n",
    "\n",
    "print(lr.predict([[50]]))\n",
    "\n",
    "print(lr.coef_,lr.intercept_)"
   ]
  },
  {
   "cell_type": "code",
   "execution_count": null,
   "id": "a1060b73",
   "metadata": {},
   "outputs": [],
   "source": []
  }
 ],
 "metadata": {
  "kernelspec": {
   "display_name": "base",
   "language": "python",
   "name": "python3"
  },
  "language_info": {
   "codemirror_mode": {
    "name": "ipython",
    "version": 3
   },
   "file_extension": ".py",
   "mimetype": "text/x-python",
   "name": "python",
   "nbconvert_exporter": "python",
   "pygments_lexer": "ipython3",
   "version": "3.11.7"
  }
 },
 "nbformat": 4,
 "nbformat_minor": 5
}
