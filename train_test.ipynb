{
 "cells": [
  {
   "cell_type": "markdown",
   "id": "cac0c7ef",
   "metadata": {},
   "source": [
    "### 훈련 세트와 테스트 세트 나누어 사용하기"
   ]
  },
  {
   "cell_type": "code",
   "execution_count": 48,
   "id": "0e997bb4",
   "metadata": {},
   "outputs": [],
   "source": [
    "# 도미의 길이, 도미의 특성성\n",
    "\n",
    "bream_length= [25.4,26.3,26.5,29.0,29.0,29.7,29,7,30.0,30.0,30.7,\n",
    "            31.0,31.0,31.5,32.0,32.0,33.0,33.0,33.5,33.5,34.0,34.0,34.5,\n",
    "            35.0,35.0,35.0,35.0,36.0,36.0,36.0,37.0,38.5,39.0,41.0,41.0]\n",
    "bream_weight = [242.0,290.0,340.0,363.0,430.0,450.0,500.0,390.0,\n",
    "                450.0,500.0,475.0,500.0,500.0,340.0,600.0,600.0,\n",
    "                700.0,700.0,610.0,650.0,575.0,685.0,620.0,680.0,\n",
    "                700.0,725.0,720.0,714.0,850.0,1000.0,920.0,955.0,\n",
    "                925.0,975.0,950.0]\n",
    "\n",
    "# 빙어 데이터\n",
    "\n",
    "smelt_length = [9.8,10.5,10.6,11.0,11.2,11.3,11.8,11.8,12.0,12.2,\n",
    "                12.4,13.0,14.3,15.0]\n",
    "smelt_weight = [6.7, 7.5, 7.0, 9.7, 9.8, 8.7, 10.0, 9.9, 9.8, 12.2,13.4,\n",
    "                12.2,19.7,19.9]"
   ]
  },
  {
   "cell_type": "code",
   "execution_count": 49,
   "id": "681f5f6d",
   "metadata": {},
   "outputs": [],
   "source": [
    "# 리스트 형태 데이터 합치기.\n",
    "length = bream_length + smelt_length\n",
    "weight = bream_weight + smelt_weight\n",
    "\n",
    "# 사이킷 런을 사용하기위해 2차원 배열로 변형\n",
    "fish_data = [[l,w] for l,w in zip(length,weight)]\n",
    "\n",
    "# 정답 준비 (지도 학습)\n",
    "# 1 : 도미, 0 : 빙어\n",
    "fish_target = [1]*35 + [0]*14"
   ]
  },
  {
   "cell_type": "code",
   "execution_count": 50,
   "id": "4b409878",
   "metadata": {},
   "outputs": [],
   "source": [
    "# 훈련 데이터와 테스트 데이터로 나누기\n",
    "\n",
    "train_input = fish_data[:35]\n",
    "train_target= fish_target[:35]\n",
    "\n",
    "test_input = fish_data[35:]\n",
    "test_target = fish_target[35:]"
   ]
  },
  {
   "cell_type": "code",
   "execution_count": 51,
   "id": "4f824f2f",
   "metadata": {},
   "outputs": [
    {
     "data": {
      "text/plain": [
       "0.0"
      ]
     },
     "execution_count": 51,
     "metadata": {},
     "output_type": "execute_result"
    }
   ],
   "source": [
    "from sklearn.neighbors import KNeighborsClassifier\n",
    "\n",
    "kn = KNeighborsClassifier()\n",
    "kn.fit(train_input,train_target)\n",
    "\n",
    "kn.score(test_input,test_target)\n",
    "# 정확도 0% -> 14개를 모두 못맞춤\n",
    "# 이유 : 35개, 14개 나눈 데이터에 훈련 데이터에는 도미 데이터,\n",
    "# 테스트 데이터에는 빙어 데이터만 들어있기에, 학습은 도미만 해서\n",
    "# 빙어 데이터를 하나도 맞추지 못한것.\n",
    "\n",
    "# 샘플링이 편향 됨"
   ]
  },
  {
   "cell_type": "markdown",
   "id": "841e4605",
   "metadata": {},
   "source": [
    "# 넘파이 사용해서 데이터 섞기"
   ]
  },
  {
   "cell_type": "code",
   "execution_count": 52,
   "id": "64951f7e",
   "metadata": {},
   "outputs": [
    {
     "name": "stdout",
     "output_type": "stream",
     "text": [
      "[[  25.4  242. ]\n",
      " [  26.3  290. ]\n",
      " [  26.5  340. ]\n",
      " [  29.   363. ]\n",
      " [  29.   430. ]\n",
      " [  29.7  450. ]\n",
      " [  29.   500. ]\n",
      " [   7.   390. ]\n",
      " [  30.   450. ]\n",
      " [  30.   500. ]\n",
      " [  30.7  475. ]\n",
      " [  31.   500. ]\n",
      " [  31.   500. ]\n",
      " [  31.5  340. ]\n",
      " [  32.   600. ]\n",
      " [  32.   600. ]\n",
      " [  33.   700. ]\n",
      " [  33.   700. ]\n",
      " [  33.5  610. ]\n",
      " [  33.5  650. ]\n",
      " [  34.   575. ]\n",
      " [  34.   685. ]\n",
      " [  34.5  620. ]\n",
      " [  35.   680. ]\n",
      " [  35.   700. ]\n",
      " [  35.   725. ]\n",
      " [  35.   720. ]\n",
      " [  36.   714. ]\n",
      " [  36.   850. ]\n",
      " [  36.  1000. ]\n",
      " [  37.   920. ]\n",
      " [  38.5  955. ]\n",
      " [  39.   925. ]\n",
      " [  41.   975. ]\n",
      " [  41.   950. ]\n",
      " [   9.8    6.7]\n",
      " [  10.5    7.5]\n",
      " [  10.6    7. ]\n",
      " [  11.     9.7]\n",
      " [  11.2    9.8]\n",
      " [  11.3    8.7]\n",
      " [  11.8   10. ]\n",
      " [  11.8    9.9]\n",
      " [  12.     9.8]\n",
      " [  12.2   12.2]\n",
      " [  12.4   13.4]\n",
      " [  13.    12.2]\n",
      " [  14.3   19.7]\n",
      " [  15.    19.9]]\n"
     ]
    }
   ],
   "source": [
    "import numpy as np\n",
    "\n",
    "input_arr = np.array(fish_data)\n",
    "target_arr = np.array(fish_target)\n",
    "\n",
    "print(input_arr)\n",
    "\n",
    "# 1차원 배열 : 벡터\n",
    "# 2차월 배열 : 행렬"
   ]
  },
  {
   "cell_type": "code",
   "execution_count": 53,
   "id": "712082cc",
   "metadata": {},
   "outputs": [],
   "source": [
    "# 0~ 48까지 정수 배열 생성\n",
    "index = np.arange(49)\n",
    "\n",
    "# np.random.shuffle()을 이용해 정수 배열 무작위로 섞기\n",
    "np.random.shuffle(index)\n",
    "\n",
    "train_input=input_arr[index[:35]]\n",
    "train_target=target_arr[index[:35]]\n",
    "\n",
    "test_input=input_arr[index[35:]]\n",
    "test_target=target_arr[index[35:]]"
   ]
  },
  {
   "cell_type": "markdown",
   "id": "c7a4bcfd",
   "metadata": {},
   "source": [
    "# 데이터 나누고 확인하기"
   ]
  },
  {
   "cell_type": "code",
   "execution_count": null,
   "id": "85299235",
   "metadata": {},
   "outputs": [
    {
     "data": {
      "image/png": "[encoded data removed]",
      "text/plain": [
       "<Figure size 640x480 with 1 Axes>"
      ]
     },
     "metadata": {},
     "output_type": "display_data"
    }
   ],
   "source": [
    "import matplotlib.pyplot as plt\n",
    "\n",
    "# 2차원 배열이니 모든 행을 표현하는 : 와 0번째 열을 표현\n",
    "# train_input[:, 1] -> 모든 행과 index가 1인 열\n",
    "plt.scatter(train_input[:, 0],train_input[:, 1])\n",
    "plt.scatter(test_input[:, 0],test_input[:, 1])\n",
    "plt.xlabel('length')\n",
    "plt.ylabel('weight')\n",
    "plt.show()"
   ]
  },
  {
   "cell_type": "code",
   "execution_count": null,
   "id": "6e65ab7b",
   "metadata": {},
   "outputs": [
    {
     "data": {
      "text/plain": [
       "1.0"
      ]
     },
     "execution_count": 55,
     "metadata": {},
     "output_type": "execute_result"
    }
   ],
   "source": [
    "# 데이터를 섞은 후 다시 학습 및 평가\n",
    "kn = kn.fit(train_input,train_target)\n",
    "\n",
    "kn. score(test_input,test_target)"
   ]
  },
  {
   "cell_type": "code",
   "execution_count": null,
   "id": "aa7619ab",
   "metadata": {},
   "outputs": [],
   "source": []
  }
 ],
 "metadata": {
  "kernelspec": {
   "display_name": "Python 3",
   "language": "python",
   "name": "python3"
  },
  "language_info": {
   "codemirror_mode": {
    "name": "ipython",
    "version": 3
   },
   "file_extension": ".py",
   "mimetype": "text/x-python",
   "name": "python",
   "nbconvert_exporter": "python",
   "pygments_lexer": "ipython3",
   "version": "3.11.7"
  }
 },
 "nbformat": 4,
 "nbformat_minor": 5
}
