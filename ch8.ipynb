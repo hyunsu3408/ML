{
 "cells": [
  {
   "cell_type": "markdown",
   "id": "8c4b2db6",
   "metadata": {},
   "source": [
    "# 다중 회귀"
   ]
  },
  {
   "cell_type": "code",
   "execution_count": 21,
   "id": "238560c0",
   "metadata": {},
   "outputs": [],
   "source": [
    "# 도미의 길이, 도미의 특성성\n",
    "\n",
    "bream_length= [25.4,26.3,26.5,29.0,29.0,29.7,29,7,30.0,30.0,30.7,\n",
    "            31.0,31.0,31.5,32.0,32.0,33.0,33.0,33.5,33.5,34.0,34.0,34.5,\n",
    "            35.0,35.0,35.0,35.0,36.0,36.0,36.0,37.0,38.5,39.0,41.0,41.0]\n",
    "bream_weight = [242.0,290.0,340.0,363.0,430.0,450.0,500.0,390.0,\n",
    "                450.0,500.0,475.0,500.0,500.0,340.0,600.0,600.0,\n",
    "                700.0,700.0,610.0,650.0,575.0,685.0,620.0,680.0,\n",
    "                700.0,725.0,720.0,714.0,850.0,1000.0,920.0,955.0,\n",
    "                925.0,975.0,950.0]\n",
    "\n",
    "# 빙어 데이터\n",
    "\n",
    "smelt_length = [9.8,10.5,10.6,11.0,11.2,11.3,11.8,11.8,12.0,12.2,\n",
    "                12.4,13.0,14.3,15.0]\n",
    "smelt_weight = [6.7, 7.5, 7.0, 9.7, 9.8, 8.7, 10.0, 9.9, 9.8, 12.2,13.4,\n",
    "                12.2,19.7,19.9]\n",
    "\n",
    "fish_length = bream_length + smelt_length\n",
    "fish_weight = bream_weight + smelt_weight\n",
    "\n",
    "from sklearn.model_selection import train_test_split\n",
    "import numpy as np\n",
    "\n",
    "fish_length = np.array(fish_length)\n",
    "fish_weight = np.array(fish_weight)\n",
    "\n",
    "# test_size를 정하지 않을때 기본 분할 비율 75:25\n",
    "train_input, test_input, train_target, test_target = train_test_split(fish_length,fish_weight,random_state=42)\n",
    "\n",
    "# reshape(-1,1): 행의 수는 자동으로 계산, 열은 1개로 고정해서 열벡터로 변환\n",
    "train_input = train_input.reshape(-1,1)\n",
    "test_input = test_input.reshape(-1,1)"
   ]
  },
  {
   "cell_type": "code",
   "execution_count": 22,
   "id": "ecf744f3",
   "metadata": {},
   "outputs": [
    {
     "name": "stdout",
     "output_type": "stream",
     "text": [
      "(56, 3)\n",
      "[[ 8.4   2.11  1.41]\n",
      " [13.7   3.53  2.  ]\n",
      " [15.    3.82  2.43]\n",
      " [16.2   4.59  2.63]\n",
      " [17.4   4.59  2.94]\n",
      " [18.    5.22  3.32]\n",
      " [18.7   5.2   3.12]\n",
      " [19.    5.64  3.05]\n",
      " [19.6   5.14  3.04]\n",
      " [20.    5.08  2.77]\n",
      " [21.    5.69  3.56]\n",
      " [21.    5.92  3.31]\n",
      " [21.    5.69  3.67]\n",
      " [21.3   6.38  3.53]\n",
      " [22.    6.11  3.41]\n",
      " [22.    5.64  3.52]\n",
      " [22.    6.11  3.52]\n",
      " [22.    5.88  3.52]\n",
      " [22.    5.52  4.  ]\n",
      " [22.5   5.86  3.62]\n",
      " [22.5   6.79  3.62]\n",
      " [22.7   5.95  3.63]\n",
      " [23.    5.22  3.63]\n",
      " [23.5   6.28  3.72]\n",
      " [24.    7.29  3.72]\n",
      " [24.    6.38  3.82]\n",
      " [24.6   6.73  4.17]\n",
      " [25.    6.44  3.68]\n",
      " [25.6   6.56  4.24]\n",
      " [26.5   7.17  4.14]\n",
      " [27.3   8.32  5.14]\n",
      " [27.5   7.17  4.34]\n",
      " [27.5   7.05  4.34]\n",
      " [27.5   7.28  4.57]\n",
      " [28.    7.82  4.2 ]\n",
      " [28.7   7.59  4.64]\n",
      " [30.    7.62  4.77]\n",
      " [32.8  10.03  6.02]\n",
      " [34.5  10.26  6.39]\n",
      " [35.   11.49  7.8 ]\n",
      " [36.5  10.88  6.86]\n",
      " [36.   10.61  6.74]\n",
      " [37.   10.84  6.26]\n",
      " [37.   10.57  6.37]\n",
      " [39.   11.14  7.49]\n",
      " [39.   11.14  6.  ]\n",
      " [39.   12.43  7.35]\n",
      " [40.   11.93  7.11]\n",
      " [40.   11.73  7.22]\n",
      " [40.   12.38  7.46]\n",
      " [40.   11.14  6.63]\n",
      " [42.   12.8   6.87]\n",
      " [43.   11.93  7.28]\n",
      " [43.   12.51  7.42]\n",
      " [43.5  12.6   8.14]\n",
      " [44.   12.49  7.6 ]]\n"
     ]
    }
   ],
   "source": [
    "# 판다스로 데이터 준비\n",
    "import pandas as pd\n",
    "import numpy as np\n",
    "\n",
    "df = pd.read_csv('https://bit.ly/perch_csv')\n",
    "perch_full = df.to_numpy()\n",
    "\n",
    "print(perch_full.shape)\n",
    "print(perch_full)"
   ]
  },
  {
   "cell_type": "code",
   "execution_count": 23,
   "id": "da4929d9",
   "metadata": {},
   "outputs": [
    {
     "name": "stdout",
     "output_type": "stream",
     "text": [
      "[[1. 2. 3. 4. 6. 9.]]\n"
     ]
    }
   ],
   "source": [
    "# 다항 특성 만들기기\n",
    "from sklearn.preprocessing import PolynomialFeatures\n",
    "\n",
    "# degree = 2\n",
    "poly = PolynomialFeatures()\n",
    "poly.fit([[2,3]])\n",
    "\n",
    "# x1, x2 에 2,3 이 들어감 -> [1, x1, x2, x1**2, x1*x2, x2**2]\n",
    "# 1 은 항상 포함\n",
    "# [1, 2, 3, 2**2 , 2*3 , 3**3 ]\n",
    "print(poly.transform([[2,3]]))\n"
   ]
  },
  {
   "cell_type": "code",
   "execution_count": 24,
   "id": "798299d0",
   "metadata": {},
   "outputs": [],
   "source": [
    "# 훈련 데이터는 fit + transform\n",
    "# train_scaled = scaler.fit_transform(train_input)  \n",
    "\n",
    "# 테스트 데이터는 transform만\n",
    "# test_scaled = scaler.transform(test_input)        "
   ]
  },
  {
   "cell_type": "code",
   "execution_count": 25,
   "id": "aacc4cbe",
   "metadata": {},
   "outputs": [
    {
     "name": "stdout",
     "output_type": "stream",
     "text": [
      "(36, 2)\n"
     ]
    }
   ],
   "source": [
    "poly = PolynomialFeatures(include_bias=False)\n",
    "\n",
    "poly.fit(train_input)\n",
    "train_poly = poly.transform(train_input)\n",
    "\n",
    "print(train_poly.shape)\n",
    "\n",
    "poly.get_feature_names_out()\n",
    "\n",
    "test_poly = poly.transform(test_input)"
   ]
  },
  {
   "cell_type": "code",
   "execution_count": 26,
   "id": "a39be225",
   "metadata": {},
   "outputs": [
    {
     "name": "stdout",
     "output_type": "stream",
     "text": [
      "0.9363236093906153\n",
      "0.9348694595374054\n"
     ]
    }
   ],
   "source": [
    "from sklearn.linear_model import LinearRegression\n",
    "\n",
    "lr = LinearRegression()\n",
    "lr.fit(train_poly,train_target)\n",
    "\n",
    "print(lr.score(train_poly, train_target))\n",
    "\n",
    "print(lr.score(test_poly, test_target))"
   ]
  },
  {
   "cell_type": "markdown",
   "id": "6c2156e9",
   "metadata": {},
   "source": [
    "# 더 많은 특성 만들기"
   ]
  },
  {
   "cell_type": "code",
   "execution_count": 53,
   "id": "916732bc",
   "metadata": {},
   "outputs": [
    {
     "name": "stdout",
     "output_type": "stream",
     "text": [
      "(36, 5)\n",
      "(13, 5)\n",
      "0.9732222780640223\n",
      "0.9570288892902422\n"
     ]
    }
   ],
   "source": [
    "poly = PolynomialFeatures(degree=5,include_bias=False)\n",
    "\n",
    "poly.fit(train_input)\n",
    "train_poly = poly.transform(train_input)\n",
    "test_poly = poly.transform(test_input)\n",
    "\n",
    "print(train_poly.shape)\n",
    "print(test_poly.shape)\n",
    "\n",
    "\n",
    "lr.fit(train_poly, train_target)\n",
    "\n",
    "print(lr.score(train_poly,train_target))\n",
    "print(lr.score(test_poly,test_target))"
   ]
  },
  {
   "cell_type": "markdown",
   "id": "7b9f79c1",
   "metadata": {},
   "source": [
    "# 규제전에 표준화"
   ]
  },
  {
   "cell_type": "code",
   "execution_count": 49,
   "id": "32886c0f",
   "metadata": {},
   "outputs": [],
   "source": [
    "from sklearn.preprocessing import StandardScaler\n",
    "\n",
    "ss = StandardScaler()\n",
    "ss.fit(train_poly)\n",
    "\n",
    "train_scaled = ss.transform(train_poly)\n",
    "test_scaled = ss.transform(test_poly)\n"
   ]
  },
  {
   "cell_type": "markdown",
   "id": "83905dec",
   "metadata": {},
   "source": [
    "# 릿지 회귀"
   ]
  },
  {
   "cell_type": "code",
   "execution_count": null,
   "id": "6b4828b3",
   "metadata": {},
   "outputs": [
    {
     "name": "stdout",
     "output_type": "stream",
     "text": [
      "0.9219078167705878\n",
      "0.9361320545796239\n"
     ]
    }
   ],
   "source": [
    "# L2 규제 -> 릿지\n",
    "\n",
    "from sklearn.linear_model import Ridge\n",
    "\n",
    "ridge = Ridge() # alpha = 1\n",
    "ridge.fit(train_scaled,train_target)\n",
    "\n",
    "print(ridge.score(train_scaled,train_target))\n",
    "\n",
    "print(ridge.score(test_scaled,test_target))\n"
   ]
  },
  {
   "cell_type": "markdown",
   "id": "c8d66190",
   "metadata": {},
   "source": [
    "# 릿쏘 적절한 규제 찾기"
   ]
  },
  {
   "cell_type": "code",
   "execution_count": 56,
   "id": "a5ddab5a",
   "metadata": {},
   "outputs": [
    {
     "data": {
      "image/png": "[encoded data removed]",
      "text/plain": [
       "<Figure size 640x480 with 1 Axes>"
      ]
     },
     "metadata": {},
     "output_type": "display_data"
    }
   ],
   "source": [
    "import matplotlib.pyplot as plt\n",
    "\n",
    "train_score = []\n",
    "test_score = []\n",
    "\n",
    "alpha_list = [0.001,0.01,0.1,1,10,100]\n",
    "for alpha in alpha_list:\n",
    "    ridge = Ridge(alpha = alpha)\n",
    "    ridge.fit(train_scaled,train_target)\n",
    "    train_score.append(ridge.score(train_scaled,train_target))\n",
    "    test_score.append(ridge.score(test_scaled,test_target))\n",
    "    \n",
    "plt.plot(np.log10(alpha_list),train_score,color='blue')\n",
    "plt.plot(np.log10(alpha_list),test_score,color='red')\n",
    "plt.xlabel('alpha')\n",
    "plt.ylabel('R^2')\n",
    "plt.show()\n",
    "\n"
   ]
  },
  {
   "cell_type": "code",
   "execution_count": null,
   "id": "8ac0b0d9",
   "metadata": {},
   "outputs": [
    {
     "name": "stdout",
     "output_type": "stream",
     "text": [
      "0.9568152863009655\n",
      "0.9520663351909618\n"
     ]
    }
   ],
   "source": [
    "# 제일 좋은 규제\n",
    "ridge = Ridge(alpha=0.01) # alpha = 0.01\n",
    "\n",
    "ridge.fit(train_scaled,train_target)\n",
    "\n",
    "print(ridge.score(train_scaled,train_target))\n",
    "\n",
    "print(ridge.score(test_scaled,test_target))\n"
   ]
  },
  {
   "cell_type": "markdown",
   "id": "93eea366",
   "metadata": {},
   "source": [
    "# 랏쏘 회귀"
   ]
  },
  {
   "cell_type": "code",
   "execution_count": null,
   "id": "7e4500f1",
   "metadata": {},
   "outputs": [
    {
     "name": "stdout",
     "output_type": "stream",
     "text": [
      "0.9355953692894129\n",
      "0.9455998929350923\n"
     ]
    }
   ],
   "source": [
    "# 규제 1\n",
    "from sklearn.linear_model import Lasso\n",
    "\n",
    "lasso = Lasso(max_iter=10000) # alpha = 1\n",
    "lasso.fit(train_scaled, train_target)\n",
    "\n",
    "print(lasso.score(train_scaled,train_target))\n",
    "print(lasso.score(test_scaled,test_target))"
   ]
  },
  {
   "cell_type": "code",
   "execution_count": 62,
   "id": "f833d725",
   "metadata": {},
   "outputs": [
    {
     "name": "stdout",
     "output_type": "stream",
     "text": [
      "0.9238337827923377\n",
      "0.9392020334416322\n",
      "3\n"
     ]
    }
   ],
   "source": [
    "lasso = Lasso(alpha=10,max_iter=10000)\n",
    "lasso.fit(train_scaled, train_target)\n",
    "\n",
    "print(lasso.score(train_scaled,train_target))\n",
    "print(lasso.score(test_scaled,test_target))\n",
    "\n",
    "print(np.sum(lasso.coef_==0))"
   ]
  },
  {
   "cell_type": "code",
   "execution_count": null,
   "id": "5877c436",
   "metadata": {},
   "outputs": [],
   "source": []
  }
 ],
 "metadata": {
  "kernelspec": {
   "display_name": "base",
   "language": "python",
   "name": "python3"
  },
  "language_info": {
   "codemirror_mode": {
    "name": "ipython",
    "version": 3
   },
   "file_extension": ".py",
   "mimetype": "text/x-python",
   "name": "python",
   "nbconvert_exporter": "python",
   "pygments_lexer": "ipython3",
   "version": "3.11.7"
  }
 },
 "nbformat": 4,
 "nbformat_minor": 5
}
